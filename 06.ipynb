{
 "cells": [
  {
   "cell_type": "markdown",
   "id": "b10943a8",
   "metadata": {},
   "source": [
    "# Using loss functions and optimizers in TensorFlow\n",
    "\n",
    "Tensorflow has a lot of inbuilt functions and classes that are very convenient to use.\n",
    "\n",
    "In [tf.keras.losses](https://www.tensorflow.org/api_docs/python/tf/keras/losses/) we find loss functions and in [tf.keras.optimizers](https://www.tensorflow.org/api_docs/python/tf/keras/optimizers) we find optimizers, including the standard gradient descent."
   ]
  },
  {
   "cell_type": "markdown",
   "id": "368350fb",
   "metadata": {},
   "source": [
    "## Mean Squared Error\n",
    "\n",
    "The mean squared error is exactly that, the mean of the squared error, that is:\n",
    "\n",
    "$$\\mathcal{L}_{\\text{MSE}}= \\text{E} (y - \\hat{y})^2$$\n",
    "\n",
    "It is used for regression tasks where larger deviations from the target are more important than small errors. It is derived from the euclidean distance."
   ]
  },
  {
   "cell_type": "code",
   "execution_count": 7,
   "id": "ad192c48",
   "metadata": {},
   "outputs": [
    {
     "name": "stdout",
     "output_type": "stream",
     "text": [
      "MSE error for the batch:\n",
      " 0.2522013485431671 \n",
      "\n"
     ]
    }
   ],
   "source": [
    "import tensorflow as tf\n",
    "import numpy as np\n",
    "\n",
    "BATCH_SIZE = 8\n",
    "N_PREDICTED_FEATURES = 5\n",
    "\n",
    "targets = tf.random.uniform((BATCH_SIZE, N_PREDICTED_FEATURES))\n",
    "predictions = tf.random.uniform((BATCH_SIZE, N_PREDICTED_FEATURES))\n",
    "\n",
    "mse_loss = tf.keras.losses.MeanSquaredError()\n",
    "mean_squared_error = mse_loss(targets,predictions)\n",
    "print(f\"MSE error for the batch:\\n {mean_squared_error.numpy()} \\n\")"
   ]
  },
  {
   "cell_type": "markdown",
   "id": "a1364231",
   "metadata": {},
   "source": [
    "## Categorical CrossEntropy\n",
    "\n",
    "The CrossEntropy loss is a loss function used for classification tasks.\n",
    "\n",
    "The entropy is defined as $H(p) = \\sum_i^n -p_i  \\log{(p_i)}$ and the crossentropy is defined as\n",
    "\n",
    "$$ H(p, y) = \\sum_i^n -y_i \\log{(p_i)}$$ \n",
    "\n",
    "where $y$ is the one-hot encoded label and $p$ is the categorical probability distribution over the classes.\n",
    "\n",
    "Another form of the CrossEntropy loss considers binary classification, where multiple classes can be labeled as true. It is defined as:\n",
    "\n",
    "$$H_{\\text{binary}}(p, y) = \\sum_i^n -y_i \\log{(p_i)} - (1-y_i) \\log{(1-p_i)}$$\n",
    "\n",
    "where each element in the predicted probabilities $p$ is the probability of that class being correct, regardless of the correctness of other classes (p does not sum to 1).\n",
    "\n"
   ]
  },
  {
   "cell_type": "code",
   "execution_count": 8,
   "id": "e96ca80e",
   "metadata": {},
   "outputs": [
    {
     "name": "stdout",
     "output_type": "stream",
     "text": [
      "CCE loss between predicted label probabilities and ground truth labels is \n",
      " 1.5787382125854492\n"
     ]
    }
   ],
   "source": [
    "#Categorical CrossEntropy\n",
    "labels = [[0,1,0],\n",
    "         [0,0,1],\n",
    "         [1,0,0],\n",
    "         [1,0,0],\n",
    "         [0,1,0]]\n",
    "\n",
    "labels = tf.constant(labels, dtype=tf.float32)\n",
    "\n",
    "logits = tf.random.normal(labels.shape)\n",
    "\n",
    "# turn network output into categorical probability distribution over the labels\n",
    "predictions = tf.nn.softmax(logits)\n",
    "\n",
    "\n",
    "# calculate categorical crossentropy\n",
    "\n",
    "CCE_loss = tf.keras.losses.CategoricalCrossentropy()\n",
    "batch_loss = CCE_loss(labels, predictions)\n",
    "\n",
    "print(f\"CCE loss between predicted label probabilities and ground truth labels is \\n {batch_loss.numpy()}\")"
   ]
  },
  {
   "cell_type": "code",
   "execution_count": 9,
   "id": "0aaff488",
   "metadata": {},
   "outputs": [
    {
     "name": "stdout",
     "output_type": "stream",
     "text": [
      "BCE loss between predicted label probabilities and ground truth labels is \n",
      "0.9398701786994934\n"
     ]
    }
   ],
   "source": [
    "# Binary CrossEntropy\n",
    "labels = [1,\n",
    "          0,\n",
    "          0,\n",
    "          1,\n",
    "          0,\n",
    "          0,\n",
    "          1,\n",
    "          0]\n",
    "labels = tf.constant(labels, dtype = tf.float32)\n",
    "\n",
    "predictions = tf.random.uniform(labels.shape)\n",
    "\n",
    "BCE_loss = tf.keras.losses.BinaryCrossentropy()\n",
    "batch_loss = BCE_loss(labels,predictions)\n",
    "\n",
    "print(f\"BCE loss between predicted label probabilities and ground truth labels is \\n{batch_loss.numpy()}\")"
   ]
  },
  {
   "cell_type": "markdown",
   "id": "5727aec8",
   "metadata": {},
   "source": [
    "# Making use of optimizers in the train loop\n",
    "- Can be found in tf.keras.optimizers\n",
    "- Optimizers take care of applying the computed gradients to update the parameters efficiently"
   ]
  },
  {
   "cell_type": "code",
   "execution_count": 13,
   "id": "3eee861a",
   "metadata": {},
   "outputs": [
    {
     "name": "stdout",
     "output_type": "stream",
     "text": [
      "parameter value before training: 7.5\n",
      "parameter value after training:  3.1415927\n"
     ]
    }
   ],
   "source": [
    "# choose optimizer and loss\n",
    "optimizer = tf.keras.optimizers.SGD(learning_rate=0.005,\n",
    "                                   momentum=0)\n",
    "\n",
    "loss_function = tf.keras.losses.MeanSquaredError()\n",
    "\n",
    "# create data\n",
    "X = tf.random.uniform((20,1), minval= 0, maxval = 10)\n",
    "Y = X * np.pi\n",
    "\n",
    "# a simple linear univariate model function without bias\n",
    "def model(x, parameter):\n",
    "    return x * parameter\n",
    "\n",
    "# initialize parameter variable to a value far away from pi\n",
    "parameter_estimate = tf.Variable(7.5, trainable=True, dtype=tf.float32)\n",
    "\n",
    "print(\"parameter value before training:\", parameter_estimate.numpy())\n",
    "\n",
    "#iterate over epochs\n",
    "for epoch in range(2):\n",
    "\n",
    "    # iterate over training examples (no batch dimension, but loss_function can take that too)\n",
    "    for x,y in zip(X,Y):\n",
    "        \n",
    "        # within GradientTape context manager, calculate loss between targets and prediction\n",
    "        with tf.GradientTape() as tape:\n",
    "\n",
    "            prediction = model(x, parameter_estimate)\n",
    "\n",
    "            loss = loss_function(y, prediction)\n",
    "\n",
    "        # outside of context manager, obtain gradients with respect to list of trainable variables\n",
    "        gradients = tape.gradient(loss, [parameter_estimate])\n",
    "\n",
    "        #apply gradients with optimizer\n",
    "        optimizer.apply_gradients(zip(gradients, [parameter_estimate]))\n",
    "        \n",
    "print(\"parameter value after training: \", parameter_estimate.numpy())"
   ]
  }
 ],
 "metadata": {
  "kernelspec": {
   "display_name": "Python 3 (ipykernel)",
   "language": "python",
   "name": "python3"
  },
  "language_info": {
   "codemirror_mode": {
    "name": "ipython",
    "version": 3
   },
   "file_extension": ".py",
   "mimetype": "text/x-python",
   "name": "python",
   "nbconvert_exporter": "python",
   "pygments_lexer": "ipython3",
   "version": "3.10.4"
  }
 },
 "nbformat": 4,
 "nbformat_minor": 5
}
