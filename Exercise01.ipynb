{
 "cells": [
  {
   "cell_type": "markdown",
   "id": "8defeb7c",
   "metadata": {},
   "source": [
    "# Multilayer Perceptrons\n",
    "## Multilayer Perceptrons (MLP) with Heaviside Threshold Function - Decision Boundary Visualization\n",
    "\n",
    "In this exercise, you'll implement a multilayer perceptron (MLP) composed of perceptron layers that takes a 2D input vector and produces binary outputs (0 or 1) using the Heaviside threshold function. The goal is to visualize the decision boundary created by the MLP for the input space \\((-1, 1)^2\\).\n",
    "\n",
    "### Step 1: Data Generation\n",
    "\n",
    "1. Generate a synthetic dataset with two features (X1 and X2). You can use the `numpy.random.rand()` function to create random data points between -1 and 1.\n",
    "\n",
    "### Step 2: Model Architecture\n",
    "\n",
    "2. Define the architecture of your MLP model. It should consist of one hidden layer with 32 neurons, another hidden layer with 2 neurons, and an output layer with one neuron.\n",
    "\n",
    "### Step 3: Activation Function\n",
    "\n",
    "3. Implement the Heaviside threshold function as an activation function to be used by both the hidden and output layers. The Heaviside function returns 1 if the input is greater than or equal to 0; otherwise, it returns 0.\n",
    "\n",
    "### Step 4: Forward Pass\n",
    "\n",
    "4. Implement the forward pass algorithm to predict outputs based on the input data and current weights.\n",
    "\n",
    "   - Calculate the dot product of the input features `X` and the weights of the first hidden layer. Apply the Heaviside activation function to obtain the hidden layer activations.\n",
    "   - Calculate the dot product of the hidden layer activations and the weights of the second hidden layer. Apply the Heaviside activation function to obtain this layer's activations.\n",
    "   - Calculate the dot product of the hidden layer activations and the weights of the output layer. Apply the Heaviside activation function to obtain the model's predictions.   \n",
    "   \n",
    "\n",
    "### Step 5: Decision Boundary Visualization\n",
    "\n",
    "5. Visualize the decision boundary of the MLP for values of X between -1 and 1. Plot the synthetic data points with different colors for each MLP output (which is either 0 or 1). Make sure we can see the decision boundary separating the two classes. Use matplotlib for plotting.\n",
    "\n",
    "### Additional Challenge\n",
    "\n",
    "6. Experiment with changing the weights and the bias in the output layer in the hidden layer to observe how it affects the decision boundary."
   ]
  },
  {
   "cell_type": "code",
   "execution_count": null,
   "id": "7336a0d1",
   "metadata": {},
   "outputs": [],
   "source": [
    "# YOUR CODE HERE"
   ]
  }
 ],
 "metadata": {
  "kernelspec": {
   "display_name": "Python 3 (ipykernel)",
   "language": "python",
   "name": "python3"
  },
  "language_info": {
   "codemirror_mode": {
    "name": "ipython",
    "version": 3
   },
   "file_extension": ".py",
   "mimetype": "text/x-python",
   "name": "python",
   "nbconvert_exporter": "python",
   "pygments_lexer": "ipython3",
   "version": "3.10.4"
  }
 },
 "nbformat": 4,
 "nbformat_minor": 5
}
