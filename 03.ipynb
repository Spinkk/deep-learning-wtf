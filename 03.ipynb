{
 "cells": [
  {
   "cell_type": "markdown",
   "id": "6cc0fbf7",
   "metadata": {},
   "source": [
    "# Basic usage of TensorFlow's automatic differentiation: The GradientTape context manager"
   ]
  },
  {
   "cell_type": "code",
   "execution_count": 11,
   "id": "0c84e4fa",
   "metadata": {},
   "outputs": [
    {
     "name": "stdout",
     "output_type": "stream",
     "text": [
      "3.14159274\n",
      "True\n"
     ]
    }
   ],
   "source": [
    "import tensorflow as tf\n",
    "import numpy as np\n",
    "\n",
    "# a simple linear univariate model function without bias\n",
    "def model(x, parameter):\n",
    "    return x * parameter\n",
    "\n",
    "# generate data (X) and targets (Y)\n",
    "X = tf.random.uniform((20,1), minval= 0, maxval = 10)\n",
    "Y = X * np.pi\n",
    "\n",
    "# initialize parameter variable to a value far away from pi\n",
    "parameter_estimate = tf.Variable(7.5, trainable=True, dtype=tf.float32)\n",
    "\n",
    "# set learning rate\n",
    "learning_rate = tf.constant(0.005, dtype=tf.float32)\n",
    "\n",
    "#iterate over epochs\n",
    "for epoch in range(2):\n",
    "\n",
    "    # iterate over training examples\n",
    "    for x,y in zip(X,Y):\n",
    "        \n",
    "        # within GradientTape context manager, calculate loss between targets and prediction\n",
    "        with tf.GradientTape() as tape:\n",
    "\n",
    "            prediction = model(x, parameter_estimate)\n",
    "            loss = (prediction - y)**2\n",
    "\n",
    "        # outside of context manager, obtain gradients with respect to list of trainable variables\n",
    "        gradients = tape.gradient(loss, [parameter_estimate])\n",
    "\n",
    "        # subtract gradients scaled by learning rate from parameters\n",
    "        new_parameter_val = parameter_estimate - learning_rate * gradients\n",
    "\n",
    "        # assign new parameter values\n",
    "        parameter_estimate.assign(new_parameter_val[0])\n",
    "        \n",
    "tf.print(parameter_estimate)\n",
    "print(np.allclose(parameter_estimate,np.pi))"
   ]
  }
 ],
 "metadata": {
  "kernelspec": {
   "display_name": "Python 3 (ipykernel)",
   "language": "python",
   "name": "python3"
  },
  "language_info": {
   "codemirror_mode": {
    "name": "ipython",
    "version": 3
   },
   "file_extension": ".py",
   "mimetype": "text/x-python",
   "name": "python",
   "nbconvert_exporter": "python",
   "pygments_lexer": "ipython3",
   "version": "3.10.4"
  }
 },
 "nbformat": 4,
 "nbformat_minor": 5
}
