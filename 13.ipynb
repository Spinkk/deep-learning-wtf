{
 "cells": [
  {
   "cell_type": "markdown",
   "id": "3b7a6013",
   "metadata": {},
   "source": [
    "This session is concerned with generative models and how they are different from discriminative models. It will provide a brief overview of different kinds of generative models, such as Generative Adversarial Networks (GANs), Variational Autoencoders (VAEs) and denoising diffusion models."
   ]
  },
  {
   "cell_type": "code",
   "execution_count": 8,
   "id": "58eb426c",
   "metadata": {
    "scrolled": false
   },
   "outputs": [
    {
     "data": {
      "text/html": [
       "\n",
       "        <iframe\n",
       "            width=\"1000\"\n",
       "            height=\"4200\"\n",
       "            src=\"https://spinkk.github.io/Generative_Models.html\"\n",
       "            frameborder=\"0\"\n",
       "            allowfullscreen\n",
       "            \n",
       "        ></iframe>\n",
       "        "
      ],
      "text/plain": [
       "<IPython.lib.display.IFrame at 0x1144b0e07c0>"
      ]
     },
     "execution_count": 8,
     "metadata": {},
     "output_type": "execute_result"
    }
   ],
   "source": [
    "from IPython.display import IFrame\n",
    "IFrame(src='https://spinkk.github.io/Generative_Models.html', width=1000, height=4200)"
   ]
  },
  {
   "cell_type": "code",
   "execution_count": null,
   "id": "97963d9f",
   "metadata": {},
   "outputs": [],
   "source": []
  }
 ],
 "metadata": {
  "kernelspec": {
   "display_name": "Python 3 (ipykernel)",
   "language": "python",
   "name": "python3"
  },
  "language_info": {
   "codemirror_mode": {
    "name": "ipython",
    "version": 3
   },
   "file_extension": ".py",
   "mimetype": "text/x-python",
   "name": "python",
   "nbconvert_exporter": "python",
   "pygments_lexer": "ipython3",
   "version": "3.10.4"
  }
 },
 "nbformat": 4,
 "nbformat_minor": 5
}
