{
 "cells": [
  {
   "cell_type": "markdown",
   "id": "fd22d0e2",
   "metadata": {},
   "source": [
    "# Course outline\n",
    "\n",
    "This is compiled material from the course Implementing ANNs with TensorFlow which I have co-taught in 2021/22 and 2022/23 at Osnabrück University. Some material was presented in a different format and is thus not yet part of this repository. That includes weekly homeworks as well as topics such as Autoencoders, NLP, ResNet and DenseNet architectures and Deep Reinforcement Learning.\n",
    "\n",
    "- 0. Basic tensor operations in TensorFlow\n",
    "\n",
    "\n",
    "- 1. From biological neurons to logic gates, to activation functions to universal function approximation (build your first ANN from scratch)\n",
    "\n",
    "\n",
    "- 2. Learning in ANNs: Gradient Descent, Backpropagation, and Automatic Differentiation (build your first ANN from scratch, including backpropagation and training loop)\n",
    "\n",
    "\n",
    "- 3. Basic usage of TensorFlow's automatic differentiation: The GradientTape context manager\n",
    "\n",
    "\n",
    "- 4. Modules, Layers, and Models. An introduction to the Keras Subclassing API\n",
    "\n",
    "\n",
    "- 5. Keras metrics for keeping track of losses, accuracies etc.\n",
    "\n",
    "\n",
    "- 6. Loss functions and optimizers\n",
    "\n",
    "\n",
    "- 7. Putting it together: Using TensorBoard to log training data and implementing a subclassed model using keras metrics and a custom training loop.\n",
    "\n",
    "\n",
    "- 8. Convolutional Neural Networks (incl. interactive widget)\n",
    "\n",
    "\n",
    "- 9. Regularization: Avoiding overfitting with L1/L2 penalties, dropout, normalization and data augmentation\n",
    "\n",
    "\n",
    "- 10. Optimization difficulties: Vanishing and exploding gradients. Weight initialization, normalization and residual/skip connections as partial solutions\n",
    "\n",
    "\n",
    "- 11. Recurrent Neural Networks: From unrolled recurrence to dynamically unrolled custom recurrent cells\n",
    "\n",
    "\n",
    "- (12. Autoencoders)\n",
    "\n",
    "\n",
    "- 13. Generative Models\n",
    "\n",
    "\n",
    "- (14. Transformers and NLP)\n",
    "\n",
    "\n",
    "- (15. Deep Reinforcement Learning)"
   ]
  },
  {
   "cell_type": "markdown",
   "id": "54a3379b",
   "metadata": {},
   "source": [
    "# Introduction: Implementing Artificial Neural Networks (ANNs) with TensorFlow\n",
    "\n",
    "The course starts with this first session (this notebook) on the basic notion of a neural network, their coarse similarities to biological neural networks. This session will introduce the notion of perceptrons, the general ideas of McCulloch and Pitts on expressing logical functions with networks of neurons. You will learn how to wire neurons into a network and set weights by hand to express a logical function. We will then go on to look at how a collection of such neurons can be expressed with the notion of a \"layer\" using matrix multiplication to perform the computation of multiple neurons in parallel. We will then connect a number of such layers to form a Multi-Layer-Perceptron, the simplest kind of ANN.\n",
    "\n"
   ]
  },
  {
   "cell_type": "markdown",
   "id": "a9b1d260",
   "metadata": {},
   "source": [
    "## From biological neurons to ANNs\n",
    "\n",
    "Neurons can be abstracted to three core elements: a **cell body (soma)**, an **axon** and **dendrites**.\n",
    "\n",
    "Dendrites take in electrical input from other firing neurons. The cell body accumulates electrical potential until a **threshold** is reached and the neuron spikes an action potential, leading to an electric discharge via the axon, which will eventually reach the dendrites of other neurons.\n",
    "\n",
    "\n",
    "### Neuron and Computation\n",
    "\n",
    "How do neurons when reduced to these characteristics relate to computation? Already in 1943 [Warren McCulloch and Walter Pitts](https://link.springer.com/article/10.1007/BF02478259) studied the relation between abstract neurons and logical operators such as AND, OR and NOT. Since all of logic can be reduced to this minimal set of operators, combining neurons in a network allows to implement arbitrary logical computations based on inputs.\n",
    "\n",
    "A McCulloch-Pitts neuron outputs either 0 or 1 just as a logical operator/function would.\n",
    "\n",
    "\n",
    "## Logical functions\n",
    "\n",
    "Let's implement an arbitrary logical function that takes three boolean truth value arguments **a**, **b**, and **c** and evaluates the following logical expression:\n",
    "\n",
    "$$ \\neg a \\rightarrow (b \\land \\neg c) $$\n",
    "\n",
    "which is also equivalent to\n",
    "\n",
    "$$ a \\lor (b \\land \\neg c) $$\n",
    "\n",
    "Let's implement it in code:"
   ]
  },
  {
   "cell_type": "code",
   "execution_count": 1,
   "id": "8879d3b8",
   "metadata": {},
   "outputs": [
    {
     "data": {
      "text/plain": [
       "0"
      ]
     },
     "execution_count": 1,
     "metadata": {},
     "output_type": "execute_result"
    }
   ],
   "source": [
    "def logical_function(arguments:tuple):\n",
    "    \n",
    "    # not(a) -> (b and not c)\n",
    "    \n",
    "    a,b,c = arguments\n",
    "    \n",
    "    if a:\n",
    "        return 1.\n",
    "    else:\n",
    "        if (b and not c):\n",
    "            return 1\n",
    "        else:\n",
    "            return 0\n",
    "        \n",
    "all_possible_arguments = \\\n",
    "            [(0,0,0),\n",
    "             (1,0,0),\n",
    "             (1,1,0),\n",
    "             (1,1,1),\n",
    "             (1,0,1),\n",
    "             (0,1,0),\n",
    "             (0,1,1),\n",
    "             (0,0,1)]\n",
    "\n",
    "logical_function(all_possible_arguments[0])"
   ]
  },
  {
   "cell_type": "markdown",
   "id": "406cf333",
   "metadata": {},
   "source": [
    "Now we want to see that a **perceptron** can express this function.\n",
    "\n",
    "Before applying a threshold function (activation function), the output of a perceptron is given by\n",
    "\n",
    "$$ o = \\sum_i^m W_i x_i + b$$\n",
    "\n",
    "or, in matrix notation:\n",
    "\n",
    "$$ o = W x  + b$$\n",
    "\n",
    "Note that you often also see $o = x W + b$ - it all depends on whether the input vector x is a row or a column vector. \n",
    "\n",
    "On this scalar output, we apply the thresholding function to determine whether the perceptron unit is \"firing\" (it outputs 1) or not (it outputs 0). The following threshold function is known as the **heaviside-step function**:\n",
    "\n",
    "$$\n",
    "\\sigma(x) = \\begin{cases}\n",
    "    1 ,& \\text{if } x > 0\\\\\n",
    "    0,              & \\text{otherwise}\n",
    "\\end{cases}\n",
    "$$\n",
    "\n",
    "To relate this back to coarse biological inspiration, we can read the weights W as analogous to the synaptic strengths of dendritic connections, and the bias as shifting the threshold.\n",
    "\n",
    "This is all we need to know in order to define a perceptron in code:"
   ]
  },
  {
   "cell_type": "code",
   "execution_count": 2,
   "id": "e140c2c4",
   "metadata": {},
   "outputs": [],
   "source": [
    "import numpy as np\n",
    "\n",
    "def heaviside_step(x):\n",
    "    \"\"\"\n",
    "    Hard binary threshold function.\n",
    "    \n",
    "    A unit fires if a threshold of 0 is surpassed.\n",
    "    \"\"\"\n",
    "    return 1. if x > 0 else 0.\n",
    "\n",
    "class Perceptron(object):\n",
    "    def __init__(self, weight_values, bias, threshold_function=heaviside_step):\n",
    "        \n",
    "        self.weights = np.array([weight_values], dtype=np.float32)\n",
    "        self.bias = bias\n",
    "        self.threshold_function = threshold_function\n",
    "    \n",
    "    def __call__(self, x:np.ndarray):\n",
    "        \n",
    "        o = self.weights @ x + self.bias # where \"@\" is matrix multiplication (or dot product)\n",
    "        \n",
    "        return self.threshold_function(o)"
   ]
  },
  {
   "cell_type": "markdown",
   "id": "d532fe50",
   "metadata": {},
   "source": [
    "Can we configure the perceptron to express the logical function from above? The bias shifts the threshold for the weighted sum of the arguments at which the unit returns a 1. If the bias is very high, the threshold will be very low and the unit will always fire, regardless of the input. If the bias is a large negative number, the threshold will be high, meaning the weights and their input need to be large numbers."
   ]
  },
  {
   "cell_type": "code",
   "execution_count": 3,
   "id": "e1fba75e",
   "metadata": {},
   "outputs": [],
   "source": [
    "p_weights = [2, 1, -1] # solution\n",
    "p_bias = 0\n",
    "\n",
    "perceptron = Perceptron(weight_values=p_weights, bias=p_bias)\n",
    "\n",
    "assert np.all(\n",
    "    [logical_function(x) == perceptron(np.array(x)) for x in all_possible_arguments]), \\\n",
    "\"the perceptron is not functionally equivalent ot the logical function\""
   ]
  },
  {
   "cell_type": "markdown",
   "id": "ce0bf33e",
   "metadata": {},
   "source": [
    "## The logic of (binary) Multilayer Perceptrons (MLP)\n",
    "\n",
    "The previous logical expression could be modeled with a single perceptron. \n",
    "But what about the following logical function?\n",
    "\n",
    "$$ (a \\lor b) \\land \\neg(a \\land b)$$\n",
    "\n",
    "This is called the XOR operator for \"exclusive or\".\n",
    "\n",
    "It turns out that a single perceptron can not express XOR since it is not linearly separable. Perceptrons can only express a linear function.\n",
    "\n",
    "The **linear** separatrix (decision boundary) of a perceptron is given by\n",
    "$$ w_1x_1+w_2x_2+...+w_nx_n+b = 0$$\n",
    "\n",
    "![https://upload.wikimedia.org/wikipedia/commons/thumb/f/f5/Separability_YES.svg/1280px-Separability_YES.svg.png](https://upload.wikimedia.org/wikipedia/commons/thumb/f/f5/Separability_YES.svg/1280px-Separability_YES.svg.png)\n",
    "\n",
    "To express the non-linear function XOR, we can stack perceptrons on top of each other, where one perceptron can take the outputs of other perceptrons as its input arguments. This is exactly equivalent to how we can combine logical operators to create composite logical functions (such as XOR!).\n",
    "\n",
    "To see that XOR is not learnable with a single linear decision boundary, we can try to draw one, separating input for which a zero should be returned (red points) from input for which a one should be returned (blue points):"
   ]
  },
  {
   "cell_type": "code",
   "execution_count": 4,
   "id": "1e0b4eee",
   "metadata": {},
   "outputs": [
    {
     "data": {
      "image/png": "[encoded data removed]",
      "text/plain": [
       "<Figure size 640x480 with 1 Axes>"
      ]
     },
     "metadata": {},
     "output_type": "display_data"
    }
   ],
   "source": [
    "import matplotlib.pyplot as plt\n",
    "\n",
    "plt.scatter(x=[1,0],y=[1,0], s=[200,200],c=\"red\")\n",
    "plt.scatter(x=[1,0,],y=[0,1], s=[200,200],c=\"blue\")\n",
    "plt.show()"
   ]
  },
  {
   "cell_type": "code",
   "execution_count": 5,
   "id": "4bb77035",
   "metadata": {},
   "outputs": [],
   "source": [
    "def xor(x):\n",
    "    a,b = x\n",
    "    return (a or b) and (not (a and b))\n",
    "\n",
    "all_possible_arguments = [\n",
    "    (0,0),\n",
    "    (0,1),\n",
    "    (1,0),\n",
    "    (1,1)\n",
    "]"
   ]
  },
  {
   "cell_type": "code",
   "execution_count": 6,
   "id": "2a694fa2",
   "metadata": {},
   "outputs": [],
   "source": [
    "# a or b\n",
    "p1_weights = [1,1]\n",
    "p1_bias = 0\n",
    "\n",
    "# a and b\n",
    "p2_weights = [0.5,0.5]\n",
    "p2_bias = -0.5\n",
    "\n",
    "# p1 and not p2\n",
    "p3_weights = [0.5,-0.5]\n",
    "p3_bias = 0\n",
    "\n",
    "perceptron_1 = Perceptron(p1_weights, p1_bias)\n",
    "perceptron_2 = Perceptron(p2_weights, p2_bias)\n",
    "perceptron_3 = Perceptron(p3_weights, p3_bias)\n",
    "\n",
    "def wire_perceptrons(x):\n",
    "    \"\"\"\n",
    "    perceptron 1 and 2 take (a,b) as inputs.\n",
    "    perceptron 3 takes the outputs of perceptron 1 and perceptron 2 as inputs.\n",
    "    \"\"\"\n",
    "    \n",
    "    return perceptron_3([perceptron_1(x),perceptron_2(x)])\n",
    "\n",
    "# evaluate that our simple handwired network implements xor\n",
    "assert np.all([xor(x) == wire_perceptrons(np.array(x)) for x in all_possible_arguments]), \"Not equivalent to XOR\""
   ]
  },
  {
   "cell_type": "markdown",
   "id": "c8f380d0",
   "metadata": {},
   "source": [
    "We just implemented an artificial neural network that implements a non-linear logical function by setting all the weights by hand!\n",
    "\n",
    "What about other kinds of functions, like non-binary functions? So far, with the heaviside-step activation function, our perceptron can only output 1 or 0..\n",
    "\n",
    "So to get a continuous output, we need to use a continuously valued threshold function. One class of such activation functions is logistic functions: e.g. sigmoid and hyperbolic tangent:\n",
    "\n",
    "## Sigmoid activation function\n",
    "\n",
    "$$\\sigma(x) = \\frac{1}{1+e^{-x}}$$\n",
    "\n",
    "- saturates towards 0 and 1\n",
    "- can thus be read as a probability\n",
    "\n",
    "## Tanh activation function\n",
    "\n",
    "$$ \\sigma(x) = \\frac{(e^x – e^{-x})}{(e^x + e^{-x})} $$\n",
    "\n",
    "- saturates at -1 and 1\n",
    "\n",
    "\n",
    "## No activation function (linear activation)\n",
    "\n",
    "$$ \\sigma(x) = x $$\n",
    "\n",
    "- can lead to arbitrary output values depending on what the pre-activation is\n",
    "- if the pre-activation is discrete valued, the output will also be"
   ]
  },
  {
   "cell_type": "code",
   "execution_count": 7,
   "id": "7157e30a",
   "metadata": {},
   "outputs": [],
   "source": [
    "def sigmoid(x):\n",
    "    return 1/(1+np.exp(-x))\n",
    "\n",
    "def tanh(x):\n",
    "    return (np.exp(x)-np.exp(-x))/(np.exp(x) + np.exp(-x))\n",
    "\n",
    "def linear(x):\n",
    "    return x"
   ]
  },
  {
   "cell_type": "code",
   "execution_count": 8,
   "id": "ed9f7717",
   "metadata": {},
   "outputs": [
    {
     "data": {
      "text/plain": [
       "array([0.23147522])"
      ]
     },
     "execution_count": 8,
     "metadata": {},
     "output_type": "execute_result"
    }
   ],
   "source": [
    "perceptron = Perceptron(weight_values=[0.5, -0.6, 0.1], bias=0, threshold_function=sigmoid)\n",
    "\n",
    "perceptron(np.array([-3,0,3]))"
   ]
  },
  {
   "cell_type": "markdown",
   "id": "0e84f6cd",
   "metadata": {},
   "source": [
    "## Layers of perceptrons\n",
    "\n",
    "As you will see, such perceptrons with non-linear activation functions present the basic units of artificial neural networks, however it is common to talk about layers of units and not single units.\n",
    "\n",
    "In the XOR example we had two perceptrons that took the raw values (a,b) as inputs. These can be considered to constitute a **layer** of two perceptrons. For readability and for matrix multiplication efficiency we want to implement a layer of perceptrons as a single object rather than having an object for each unit."
   ]
  },
  {
   "cell_type": "code",
   "execution_count": 9,
   "id": "c34fd0b0",
   "metadata": {},
   "outputs": [],
   "source": [
    "class PerceptronLayer(object):\n",
    "    def __init__(self, weights, biases, activation_function=sigmoid):\n",
    "        \n",
    "        self.weights = np.array(weights)\n",
    "        self.bias = np.array(biases)\n",
    "        self.activation_function = activation_function\n",
    "        \n",
    "    def __call__(self, x):\n",
    "        \n",
    "        output = (x @ self.weights + self.bias)\n",
    "        \n",
    "        return self.activation_function(output)"
   ]
  },
  {
   "cell_type": "markdown",
   "id": "baf512e2",
   "metadata": {},
   "source": [
    "You may notice that this looks exactly the same as before.\n",
    "\n",
    "This time, we pass a different shape of the weights array, turning the dot product (@) into a matrix-vector multiplication.\n",
    "\n",
    "Let's instantiate a layer of **4 perceptrons** that each connect to **3 input values**."
   ]
  },
  {
   "cell_type": "code",
   "execution_count": 10,
   "id": "e937824e",
   "metadata": {},
   "outputs": [
    {
     "name": "stdout",
     "output_type": "stream",
     "text": [
      "weights have shape (3, 4)\n",
      "output: [0.99999992 0.07585818 1.         0.76852478]\n"
     ]
    }
   ],
   "source": [
    "weights = np.array([[1,3,4],\n",
    "                    [-2,-4,1],\n",
    "                    [3,1,9],\n",
    "                    [0,1,0]]).T\n",
    "\n",
    "biases = np.array([0,0,0,0])\n",
    "\n",
    "print(f\"weights have shape {weights.shape}\")\n",
    "\n",
    "perceptron_layer = PerceptronLayer(weights, biases)\n",
    "\n",
    "print(\"output:\", perceptron_layer([0.4, 1.2, 3.1]))"
   ]
  },
  {
   "cell_type": "markdown",
   "id": "b78aff76",
   "metadata": {},
   "source": [
    "# Multi-Layer-Perceptrons\n",
    "\n",
    "\n",
    "From the layer with 4 units we get a 4 dimensional vector instead of a single scalar as the output. \n",
    "\n",
    "How can we stack these layers to construct an even more expressive neural network?\n",
    "\n",
    "All we need to do is to make sure we obey the rules of matrix multiplication!\n",
    "\n",
    "Matrix multiplication requires the inner dimensions of the two matrices match, e.g. (a,b) and (b,c).\n",
    "\n",
    "Given a matrix **W** (the weights of our layer) and a vector **x** (the inputs to the layer), we need the dimensionality of **x** to match the number of columns in the matrix. The output then is a vector with a dimensionality of the number of rows of **W**. The weights shape can be read as (n_inputs, n_outputs) and the input always has shape (batch_size, n_inputs), such that a matrix multiplication with **W** leads to shape (batch_size, n_outputs).\n",
    "\n",
    "If we have data x with shape (1,10) and a first layer with a weight shape of (10,5), we get a vector of shape (1,5) as the output. If we want to apply another layer to this output, its weights need to be of shape (5, n_units).\n",
    "\n",
    "Let's define such a network, this time using randomly initialized weights so we can also scale it up:"
   ]
  },
  {
   "cell_type": "code",
   "execution_count": 11,
   "id": "424a2acf",
   "metadata": {},
   "outputs": [
    {
     "name": "stdout",
     "output_type": "stream",
     "text": [
      "output: [1.27902114]\n"
     ]
    }
   ],
   "source": [
    "def random_weights(*shape):\n",
    "    return np.random.normal(size=shape)\n",
    "\n",
    "class MultiLayerPerceptron(object):\n",
    "    \n",
    "    def __init__(self, n_inputs):\n",
    "        \n",
    "        self.layer_1 = PerceptronLayer(weights=random_weights(n_inputs, 64),\n",
    "                                       biases=np.zeros(64))\n",
    "        \n",
    "        self.layer_2 = PerceptronLayer(weights=random_weights(64, 32),\n",
    "                                       biases=np.zeros(32))\n",
    "        \n",
    "        self.layer_3 = PerceptronLayer(weights=random_weights(32, 16),\n",
    "                                       biases=np.zeros(16))\n",
    "        \n",
    "        self.output_layer = PerceptronLayer(weights=random_weights(16, 1),\n",
    "                                            biases=np.zeros(1),\n",
    "                                            activation_function=linear)\n",
    "\n",
    "    def __call__(self, x):\n",
    "        \n",
    "        x = self.layer_1(x)\n",
    "        x = self.layer_2(x)\n",
    "        x = self.layer_3(x)\n",
    "        \n",
    "        return self.output_layer(x)\n",
    "    \n",
    "mlp = MultiLayerPerceptron(n_inputs=3)\n",
    "\n",
    "observation = [1, -1, 0.5]\n",
    "prediction = mlp(observation)\n",
    "print(\"output:\", prediction)"
   ]
  },
  {
   "cell_type": "markdown",
   "id": "16cf7ea8",
   "metadata": {},
   "source": [
    "# Universal Function Approximation Theorem\n",
    "\n",
    "What can we do with this MLP architecture?\n",
    "\n",
    "According to the universal approximation theorems, given enough units in a single layer MLP with a non-linearity, we can approximate any continuous function. With multiple layers, we can usually achieve the same approximation with less units.\n",
    "\n",
    "MLPs present a powerful tool to learn from data, but it is not as simple as this finding may seem to suggest:\n",
    "\n",
    "- just because a solution exists for a network architecture, it does not mean we will find it (learning weights and biases is hard)\n",
    "- fitting to observed data does not mean the network will perform as well on unseen data  (generalization is hard)\n",
    "\n",
    "\n",
    "# How to update the weights of an MLP?\n",
    "\n",
    "Now suppose we have a set of observations (data) and we know the true values (labels) of what we want to predict.\n",
    "\n",
    "**How can we adapt the weights (and the bias values) of our multi-layer perceptron to make model predictions match the observed ground truth?**\n",
    "\n",
    "This will be addressed in detail in notebook 02."
   ]
  }
 ],
 "metadata": {
  "kernelspec": {
   "display_name": "Python 3 (ipykernel)",
   "language": "python",
   "name": "python3"
  },
  "language_info": {
   "codemirror_mode": {
    "name": "ipython",
    "version": 3
   },
   "file_extension": ".py",
   "mimetype": "text/x-python",
   "name": "python",
   "nbconvert_exporter": "python",
   "pygments_lexer": "ipython3",
   "version": "3.10.4"
  }
 },
 "nbformat": 4,
 "nbformat_minor": 5
}
