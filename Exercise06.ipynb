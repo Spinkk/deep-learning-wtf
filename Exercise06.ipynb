{
 "cells": [
  {
   "cell_type": "markdown",
   "id": "4af76a07",
   "metadata": {},
   "source": [
    "# Going deep\n",
    "\n",
    "## (1A) Try to train a very deep neural network (convolutional or fully connected) on mnist (try 15, 50, 150 layers)\n",
    "\n",
    "- Log the gradient magnitude (Frobenius norm) for the first few layers of the network\n",
    "\n",
    "\n",
    "## (1B) Equip the model with tricks to help with vanishing gradients\n",
    "\n",
    "- Residual connections (see [ResNet paper](https://arxiv.org/abs/1512.03385))\n",
    "- Layer or Batch normalization (remember setting the training argument)\n",
    "- Special initializations\n",
    "- Different activation functions\n"
   ]
  },
  {
   "cell_type": "code",
   "execution_count": null,
   "id": "43719b17",
   "metadata": {},
   "outputs": [],
   "source": [
    "import tensorflow as tf\n",
    "import tensorflow_datasets as tfds\n",
    "tf.random.set_seed(42)\n",
    "def get_mnist(batch_size):\n",
    "    \"\"\"\n",
    "    Load and prepare MNIST as a tensorflow dataset.\n",
    "    Returns a train and a validation dataset.\n",
    "\n",
    "    Args:\n",
    "    batch_size (int)\n",
    "    \"\"\"\n",
    "    train_ds, val_ds = tfds.load('mnist', split=['train', 'test'], shuffle_files=True)\n",
    "\n",
    "    one_hot = lambda x: tf.one_hot(x, 10)\n",
    "\n",
    "    map_func = lambda x,y: (tf.cast(\n",
    "        tf.expand_dims(x, -1), dtype=tf.float32)/255.,\n",
    "                            tf.cast(one_hot(y),tf.float32))\n",
    "\n",
    "    map_func_2 = lambda x: (x[\"image\"],x[\"label\"])\n",
    "\n",
    "    train_ds = train_ds.map(map_func_2).map(map_func)\n",
    "    val_ds   = val_ds.map(map_func_2).map(map_func)\n",
    "\n",
    "    train_ds = train_ds.shuffle(1024).batch(batch_size).prefetch(tf.data.AUTOTUNE)\n",
    "    val_ds   = val_ds.shuffle(1024).batch(batch_size).prefetch(tf.data.AUTOTUNE)\n",
    "\n",
    "    return (train_ds, val_ds)\n",
    "\n",
    "train_ds, val_ds = get_mnist(32)"
   ]
  },
  {
   "cell_type": "code",
   "execution_count": null,
   "id": "20ed85af",
   "metadata": {},
   "outputs": [],
   "source": [
    "# YOUR CODE HERE"
   ]
  }
 ],
 "metadata": {
  "kernelspec": {
   "display_name": "Python 3 (ipykernel)",
   "language": "python",
   "name": "python3"
  },
  "language_info": {
   "codemirror_mode": {
    "name": "ipython",
    "version": 3
   },
   "file_extension": ".py",
   "mimetype": "text/x-python",
   "name": "python",
   "nbconvert_exporter": "python",
   "pygments_lexer": "ipython3",
   "version": "3.10.4"
  }
 },
 "nbformat": 4,
 "nbformat_minor": 5
}
