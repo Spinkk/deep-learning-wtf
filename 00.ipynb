{
 "cells": [
  {
   "cell_type": "markdown",
   "id": "a0df4c58",
   "metadata": {},
   "source": [
    "# Working with Tensors in Tensorflow\n",
    "\n",
    "Before you can start to follow this course, you should run the following command with your virtual python environment activated: \"pip install numpy matplotlib tensorflow tensorflow-datasets keras-cv\"\n",
    "\n",
    "This is the first of a series of notebooks for a course on Deep Learning with TensorFlow. This notebook is advised to be reviewed carefully if you have not worked extensively with numpy and multi-dimensional arrays or tensors before. Most of the API is similar to numpy with the difference that you ought not use in place operations as TensorFlow is a functional DL framework. Instead of tensor.reshape(shape) you should use tf.reshape(tensor, shape). This can often lead to seemingly convoluted code in which you have to read from the inner-most bracket to the outermost bracked to understand what is going on.\n",
    "\n",
    "# What is a tensor? \n",
    "\n",
    "- **A Tensor is a generalization of the concepts scalar, vector and matrix**\n",
    "\n",
    "Rank 0 tensor: **scalar** with shape () e.g. 5\n",
    "\n",
    "Rank 1 tensor: **vector** with shape (n) e.g. $\\begin{pmatrix}1 \\\\ 2 \\\\ 3 \\end{pmatrix}$\n",
    "\n",
    "\n",
    "Rank 2 tensor: **matrix** with shape (m,n) e.g. $\\begin{bmatrix}1 & 2 & 3 \\\\ 4 & 5 & 6 \\\\ 7 & 8 & 9 \\end{bmatrix}$\n",
    "\n",
    "Rank 3 tensor: e.g. **image** with shape (width, height, color channels)\n",
    "\n",
    "Rank 4 tensor: e.g. RGB video with shape (time, width, height, color channels)\n",
    "\n",
    "Rank 5 tensor: e.g. batch of RGB videos with shape (batch_size, time, width, height, color channels)\n",
    "\n",
    ".\n",
    ".\n",
    ".\n",
    "\n",
    "# Creating tensors from other objects in Python"
   ]
  },
  {
   "cell_type": "code",
   "execution_count": 14,
   "id": "4ff10a49",
   "metadata": {},
   "outputs": [
    {
     "name": "stdout",
     "output_type": "stream",
     "text": [
      "tf.Tensor(\n",
      "[[1. 2. 3.]\n",
      " [4. 5. 6.]], shape=(2, 3), dtype=float32)\n"
     ]
    }
   ],
   "source": [
    "import tensorflow as tf\n",
    "import numpy as np\n",
    "\n",
    "to_tensor = 5.0\n",
    "\n",
    "to_tensor = [ [1,2,3], \\\n",
    "              [4,5,6] ]\n",
    "\n",
    "#to_tensor = np.arange(1,7)\n",
    "#to_tensor = np.ones((2,3))\n",
    "#to_tensor = np.random.randn(5,2,3)\n",
    "\n",
    "\n",
    "tensor = tf.constant(to_tensor, \n",
    "                    dtype=tf.float32\n",
    "                    )\n",
    "print(tensor)"
   ]
  },
  {
   "cell_type": "markdown",
   "id": "89d051e4",
   "metadata": {},
   "source": [
    "# Creating tensors directly with Tensorflow"
   ]
  },
  {
   "cell_type": "code",
   "execution_count": 15,
   "id": "97da102f",
   "metadata": {},
   "outputs": [
    {
     "name": "stdout",
     "output_type": "stream",
     "text": [
      "tf.Tensor(\n",
      "[[ 1.3696206  -1.3010486 ]\n",
      " [-0.44483045  0.7362469 ]\n",
      " [-0.07830498 -0.86602336]], shape=(3, 2), dtype=float32)\n"
     ]
    }
   ],
   "source": [
    "tensor = tf.ones(shape=(3,2)) # tf.zeros # tf.zeros_like # tf.ones_like #tf.eye\n",
    "\n",
    "tensor = tf.random.normal((3,2))\n",
    "\n",
    "# generate tensor filled with random integers\n",
    "#tensor = tf.random.uniform((4,3,2), minval= 0, maxval=100, dtype=tf.int32)\n",
    "\n",
    "print(tensor)"
   ]
  },
  {
   "cell_type": "markdown",
   "id": "f53ea9ba",
   "metadata": {},
   "source": [
    "# Reshaping and transposing tensors"
   ]
  },
  {
   "cell_type": "code",
   "execution_count": 16,
   "id": "6c98ecea",
   "metadata": {},
   "outputs": [
    {
     "name": "stdout",
     "output_type": "stream",
     "text": [
      "(100,) \n",
      "\n",
      "(20, 5) \n",
      "\n",
      "(100, 1) \n",
      "\n",
      "(100,) \n",
      "\n",
      "(5, 20) \n",
      "\n",
      "(5, 20)\n"
     ]
    }
   ],
   "source": [
    "tensor = tf.range(1,101, dtype=tf.float32)\n",
    "print(tensor.shape, \"\\n\")\n",
    "\n",
    "# reshaping\n",
    "reshaped_tensor = tf.reshape(tensor, (20,5))\n",
    "print(reshaped_tensor.shape, \"\\n\")\n",
    "\n",
    "# adding a dimension of 1: e.g. from tensor shape (32,10) -> (32,10,1)\n",
    "expanded_tensor = tf.expand_dims(tensor, axis=-1)\n",
    "print(expanded_tensor.shape, \"\\n\")\n",
    "\n",
    "# removing dimensions of 1: e.g. (1,20,1,20,1) -> (20,20)\n",
    "squeezed_tensor = tf.squeeze(expanded_tensor, axis=None)\n",
    "print(squeezed_tensor.shape, \"\\n\")\n",
    "\n",
    "# transposing\n",
    "\n",
    "transposed_tensor = tf.transpose(reshaped_tensor)\n",
    "print(transposed_tensor.shape, \"\\n\")\n",
    "\n",
    "# transposing with permutation: e.g. (10,5,2) -> (5,10,2)\n",
    "permuted_tensor = tf.transpose(reshaped_tensor, perm=[1,0])\n",
    "print(permuted_tensor.shape)"
   ]
  },
  {
   "cell_type": "markdown",
   "id": "cd5394f0",
   "metadata": {},
   "source": [
    "# Concatenating and stacking tensors\n",
    "\n",
    "Concatenating is something you do when the axis along which you want to stack already exists. The tensors need not to match in terms of elements in that axis. Example usage: Combine outputs from different layers\n",
    "\n",
    "Stacking is something you do when you have multiple tensors of the exact same shape and you want to stack them in a new axis. Example: Turn multiple images into a batch or time-sequence of images."
   ]
  },
  {
   "cell_type": "code",
   "execution_count": 17,
   "id": "4e5769f5",
   "metadata": {},
   "outputs": [
    {
     "name": "stdout",
     "output_type": "stream",
     "text": [
      "(128, 96)\n",
      "(2, 12, 12, 3)\n"
     ]
    }
   ],
   "source": [
    "A = tf.ones((128,32), dtype=tf.float32)\n",
    "B = tf.zeros((128,64), dtype=tf.float32)\n",
    "\n",
    "print(tf.concat([A,B], axis= -1).shape)\n",
    "\n",
    "\n",
    "A = tf.ones((12,12,3), dtype=tf.float32)\n",
    "B = tf.zeros((12,12,3), dtype=tf.float32)\n",
    "\n",
    "print(tf.stack([A,B], axis=0).shape)"
   ]
  },
  {
   "cell_type": "markdown",
   "id": "963c2744",
   "metadata": {},
   "source": [
    "# Reduce-operations in tensorflow\n",
    "\n",
    "- instead of sum, we use reduce_sum and specify the axis over which we want to sum. We can pass a list of axes to sum/mean/product/std etc. over, or we can pass axis=None, to reduce over all axes to obtain a single scalar.\n",
    "- same for other operations like mean, std, product etc.\n",
    "- set argument keepdims=True if you want to do something like dividing a tensor by its standard deviation."
   ]
  },
  {
   "cell_type": "code",
   "execution_count": 18,
   "id": "5c95cc70",
   "metadata": {},
   "outputs": [
    {
     "name": "stdout",
     "output_type": "stream",
     "text": [
      "(32, 4, 2) \n",
      "\n",
      "(32, 2) \n",
      "\n",
      "(4, 2) \n",
      "\n",
      "()\n",
      "()\n"
     ]
    }
   ],
   "source": [
    "tensor = tf.ones((32,4,2))\n",
    "print(tensor.shape,\"\\n\")\n",
    "\n",
    "feature_sum = tf.reduce_sum(tensor, axis=1)\n",
    "print(feature_sum.shape, \"\\n\")\n",
    "\n",
    "batch_sum = tf.reduce_prod(tensor, axis=0)\n",
    "print(batch_sum.shape, \"\\n\")\n",
    "\n",
    "total_sum = tf.reduce_mean(tensor, axis=None)\n",
    "print(total_sum.shape)\n",
    "\n",
    "total_std = tf.math.reduce_std(tensor,axis=None)\n",
    "print(total_std.shape)"
   ]
  },
  {
   "cell_type": "markdown",
   "id": "11602113",
   "metadata": {},
   "source": [
    "# Matrix multiplication and other operations with tensors\n",
    "\n",
    "In Deep Learning we make extensive use of matrix multiplications. If you have not learned about linear algebra before, I recommend you watch [3Blue1Brown's series](https://www.youtube.com/watch?v=fNk_zzaMoSs&list=PLZHQObOWTQDPD3MizzM2xVFitgF8hE_ab)."
   ]
  },
  {
   "cell_type": "code",
   "execution_count": 19,
   "id": "37d7bfc0",
   "metadata": {},
   "outputs": [
    {
     "name": "stdout",
     "output_type": "stream",
     "text": [
      "(32, 2, 10)\n"
     ]
    }
   ],
   "source": [
    "A = tf.ones((32,2,5))\n",
    "B = tf.ones((32, 5,10))\n",
    "\n",
    "result = tf.matmul(A,B)\n",
    "#result = A@B\n",
    "print(result.shape)"
   ]
  },
  {
   "cell_type": "code",
   "execution_count": 20,
   "id": "0f68f15e",
   "metadata": {},
   "outputs": [
    {
     "name": "stdout",
     "output_type": "stream",
     "text": [
      "tf.Tensor([0.5 1.  1.5 2.  2.5], shape=(5,), dtype=float32)\n"
     ]
    }
   ],
   "source": [
    "# element-wise operations\n",
    "\n",
    "A = tf.range(1,6, dtype=tf.float32)\n",
    "B = tf.ones(A.shape)*0.5 # broadcast multiplication by 0.5 \n",
    "print(B*A)"
   ]
  },
  {
   "cell_type": "markdown",
   "id": "adf9a633",
   "metadata": {},
   "source": [
    "# Constants and variables\n",
    "\n",
    "- Tensors can be constants or variables\n",
    "\n",
    "- Constants should be used for data (immutable), variables for model parameters (mutable with variable.assign(...))\n",
    "\n",
    "- Variables can be flagged as trainable or non-trainable"
   ]
  },
  {
   "cell_type": "code",
   "execution_count": 21,
   "id": "783cca7a",
   "metadata": {},
   "outputs": [
    {
     "name": "stdout",
     "output_type": "stream",
     "text": [
      "<tf.Variable 'weight_1:0' shape=(3,) dtype=float32, numpy=array([1., 2., 3.], dtype=float32)>\n",
      "<tf.Variable 'weight_1:0' shape=(3,) dtype=float32, numpy=array([2., 3., 4.], dtype=float32)>\n"
     ]
    }
   ],
   "source": [
    "var = tf.Variable([1,2,3], trainable = True, dtype=tf.float32, name=\"weight_1\")\n",
    "print(var)\n",
    "\n",
    "var.assign([2,3,4])\n",
    "print(var)"
   ]
  },
  {
   "cell_type": "markdown",
   "id": "f6f76cdc",
   "metadata": {},
   "source": [
    "# Converting current variable values to a constant tensor\n",
    "\n",
    "- Can be useful for keeping track of model parameters during training"
   ]
  },
  {
   "cell_type": "code",
   "execution_count": 22,
   "id": "097c5250",
   "metadata": {},
   "outputs": [
    {
     "name": "stdout",
     "output_type": "stream",
     "text": [
      "tf.Tensor([2. 3. 4.], shape=(3,), dtype=float32)\n",
      "tf.Tensor([2. 3. 4.], shape=(3,), dtype=float32)\n"
     ]
    }
   ],
   "source": [
    "stored_tensor = tf.convert_to_tensor(var)\n",
    "print(stored_tensor)\n",
    "var.assign([9,9,9])\n",
    "print(stored_tensor) # stayed the same even though var changed"
   ]
  },
  {
   "cell_type": "markdown",
   "id": "a302553a",
   "metadata": {},
   "source": [
    "# Converting tensors to a different dtype\n",
    "\n",
    "We often need to change the data type of tensors. In TensorFlow this is done with tf.cast"
   ]
  },
  {
   "cell_type": "code",
   "execution_count": 23,
   "id": "904c1e22",
   "metadata": {},
   "outputs": [
    {
     "name": "stdout",
     "output_type": "stream",
     "text": [
      "<dtype: 'float32'>\n"
     ]
    },
    {
     "data": {
      "text/plain": [
       "<tf.Tensor: shape=(3,), dtype=int8, numpy=array([2, 3, 4], dtype=int8)>"
      ]
     },
     "execution_count": 23,
     "metadata": {},
     "output_type": "execute_result"
    }
   ],
   "source": [
    "# before transforming, we have float32\n",
    "print(stored_tensor.dtype)\n",
    "\n",
    "tf.cast(stored_tensor, dtype=tf.int8)"
   ]
  },
  {
   "cell_type": "markdown",
   "id": "ad3ef1ac",
   "metadata": {},
   "source": [
    "# Concluding remarks\n",
    "\n",
    "The TensorFlow is quite extensive and it can feel overwhelming at first, especially if you are not very familiar with NumPy. It is worth to review the documentation for specific functions and to use stackoverflow and other resources extensively. Beware however that you may find outdated information regarding TensorFlow 1.x versions which include things such as tf.PlaceHolder and session.run() calls."
   ]
  }
 ],
 "metadata": {
  "kernelspec": {
   "display_name": "Python 3 (ipykernel)",
   "language": "python",
   "name": "python3"
  },
  "language_info": {
   "codemirror_mode": {
    "name": "ipython",
    "version": 3
   },
   "file_extension": ".py",
   "mimetype": "text/x-python",
   "name": "python",
   "nbconvert_exporter": "python",
   "pygments_lexer": "ipython3",
   "version": "3.10.4"
  }
 },
 "nbformat": 4,
 "nbformat_minor": 5
}
